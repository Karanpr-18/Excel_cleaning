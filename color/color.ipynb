{
 "cells": [
  {
   "cell_type": "code",
   "execution_count": 16,
   "id": "dba1a8ff",
   "metadata": {},
   "outputs": [],
   "source": [
    "import pandas as pd\n",
    "from openpyxl import load_workbook\n",
    "from openpyxl.styles import PatternFill"
   ]
  },
  {
   "cell_type": "code",
   "execution_count": 18,
   "metadata": {},
   "outputs": [
    {
     "name": "stdout",
     "output_type": "stream",
     "text": [
      "ERROR! Session/line number was not unique in database. History logging moved to new session 64\n"
     ]
    }
   ],
   "source": [
    "# File path of the input Excel\n",
    "file_path = \"Kadam Haryana compile report  2024-2025 02052025.xlsx\"\n",
    "\n",
    "# Load the data sheet into pandas DataFrame\n",
    "data_df = pd.read_excel(file_path, sheet_name='Compile Report')\n",
    "\n",
    "# Define validation rules in the script as a dictionary\n",
    "# Format: column_name: list of validations to apply\n",
    "# Supported validations: \"not null\", \"numeric\", \"date\"\n",
    "validation_rules = {\n",
    "    \"Student's First Name\": [\"not null\"],\n",
    "    \"Student's Last Name\": [\"not null\"],\n",
    "    \"Student's Age\": [\"not null\", \"numeric\"],\n",
    "    \"Student's Date of Birth\": [\"date\"],\n",
    "    # Add your columns and validation rules here as needed\n",
    "}"
   ]
  },
  {
   "cell_type": "code",
   "execution_count": 19,
   "id": "c2948a3c",
   "metadata": {},
   "outputs": [],
   "source": [
    "# Define red fill for errors in Excel\n",
    "red_fill = PatternFill(start_color=\"FF0000\", end_color=\"FF0000\", fill_type=\"solid\")\n",
    "\n",
    "# Load workbook and worksheet for applying Excel formatting\n",
    "wb = load_workbook(file_path)\n",
    "ws = wb['Compile Report']\n",
    "\n",
    "# List to hold validation error records\n",
    "validation_errors = []"
   ]
  },
  {
   "cell_type": "code",
   "execution_count": 20,
   "id": "713b1cee",
   "metadata": {},
   "outputs": [
    {
     "name": "stderr",
     "output_type": "stream",
     "text": [
      "C:\\Users\\nehak\\AppData\\Local\\Temp\\ipykernel_4884\\415948242.py:35: UserWarning: Parsing dates in %d-%m-%Y format when dayfirst=False (the default) was specified. Pass `dayfirst=True` or specify a format to silence this warning.\n",
      "  if pd.to_datetime(value, errors='coerce') is pd.NaT:\n"
     ]
    }
   ],
   "source": [
    "# Iterate over the validation_rules dictionary\n",
    "for col_name, rules in validation_rules.items():\n",
    "    if col_name not in data_df.columns:\n",
    "        # Column not in data, skip or optionally log warning\n",
    "        continue\n",
    "\n",
    "    # Find the Excel column letter for the column header\n",
    "    col_letter = None\n",
    "    for cell in ws[1]:\n",
    "        if cell.value == col_name:\n",
    "            col_letter = cell.column_letter\n",
    "            break\n",
    "    if col_letter is None:\n",
    "        # Could not find the column in Excel, skip\n",
    "        continue\n",
    "\n",
    "    # Iterate over each value in the column\n",
    "    for i, value in enumerate(data_df[col_name], start=2):  # Excel rows start at 2 due to header\n",
    "        for rule in rules:\n",
    "            has_error = False\n",
    "            error_reason = \"\"\n",
    "            rule_lower = rule.lower()\n",
    "\n",
    "            if rule_lower == \"not null\":\n",
    "                if pd.isnull(value) or (isinstance(value, str) and value.strip() == \"\"):\n",
    "                    has_error = True\n",
    "                    error_reason = \"Value is null or empty\"\n",
    "            elif rule_lower == \"numeric\":\n",
    "                try:\n",
    "                    float(value)\n",
    "                except Exception:\n",
    "                    has_error = True\n",
    "                    error_reason = \"Value is not numeric\"\n",
    "            elif rule_lower == \"date\":\n",
    "                if pd.to_datetime(value, errors='coerce') is pd.NaT:\n",
    "                    has_error = True\n",
    "                    error_reason = \"Value is not a valid date\"\n",
    "            # Add additional rules here as desired\n",
    "\n",
    "            if has_error:\n",
    "                cell_ref = f\"{col_letter}{i}\"\n",
    "                ws[cell_ref].fill = red_fill\n",
    "                validation_errors.append({\n",
    "                    \"Row\": i,\n",
    "                    \"Column\": col_name,\n",
    "                    \"Cell\": cell_ref,\n",
    "                    \"Value\": value,\n",
    "                    \"Error\": error_reason\n",
    "                })\n",
    "                # Once error found for this rule in this cell, no need to check other rules for same cell\n",
    "                break"
   ]
  },
  {
   "cell_type": "code",
   "execution_count": 21,
   "id": "98912da2",
   "metadata": {},
   "outputs": [
    {
     "name": "stdout",
     "output_type": "stream",
     "text": [
      "Validation complete.\n",
      "Highlighted data saved as 'Validated_Output.xlsx'.\n",
      "Validation report saved as 'Validation_Report.xlsx'.\n"
     ]
    }
   ],
   "source": [
    "# Save the highlighted workbook as new file\n",
    "wb.save(\"Validated_Output.xlsx\")\n",
    "\n",
    "# Create a DataFrame for validation report\n",
    "report_df = pd.DataFrame(validation_errors)\n",
    "\n",
    "# Save the validation report as a separate Excel file (empty if no errors)\n",
    "if report_df.empty:\n",
    "    report_df = pd.DataFrame(columns=[\"Row\", \"Column\", \"Cell\", \"Value\", \"Error\"])\n",
    "\n",
    "report_df.to_excel(\"Validation_Report.xlsx\", index=False)\n",
    "\n",
    "print(\"Validation complete.\")\n",
    "print(\"Highlighted data saved as 'Validated_Output.xlsx'.\")\n",
    "print(\"Validation report saved as 'Validation_Report.xlsx'.\")"
   ]
  }
 ],
 "metadata": {
  "kernelspec": {
   "display_name": "Python 3",
   "language": "python",
   "name": "python3"
  },
  "language_info": {
   "codemirror_mode": {
    "name": "ipython",
    "version": 3
   },
   "file_extension": ".py",
   "mimetype": "text/x-python",
   "name": "python",
   "nbconvert_exporter": "python",
   "pygments_lexer": "ipython3",
   "version": "3.13.2"
  }
 },
 "nbformat": 4,
 "nbformat_minor": 5
}
